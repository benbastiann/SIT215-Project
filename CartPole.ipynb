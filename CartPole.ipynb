{
 "cells": [
  {
   "cell_type": "markdown",
   "id": "16793d9c",
   "metadata": {},
   "source": [
    "# Import library, create environment and quick review on the numbers info"
   ]
  },
  {
   "cell_type": "code",
   "execution_count": 1,
   "id": "e454185c",
   "metadata": {},
   "outputs": [
    {
     "name": "stdout",
     "output_type": "stream",
     "text": [
      "Number of action: Discrete(2)\n",
      "Number of state: Box(-3.4028234663852886e+38, 3.4028234663852886e+38, (4,), float32)\n"
     ]
    }
   ],
   "source": [
    "#import gym library\n",
    "import gym\n",
    "#Import numpy and libraries for data processing and calculation\n",
    "import numpy as np\n",
    "import math\n",
    "\n",
    "#Plotting library\n",
    "import matplotlib.pyplot as plt\n",
    "\n",
    "#Kbins for later bin create\n",
    "from sklearn.preprocessing import KBinsDiscretizer\n",
    "\n",
    "#Other library\n",
    "import time\n",
    "import random\n",
    "from typing import Tuple\n",
    "\n",
    "#Implement the cart pole environment\n",
    "env = gym.make('CartPole-v0').env\n",
    "\n",
    "#Quick review on action spaces number and state space number of the Cart pole environment\n",
    "print(\"Number of action:\",env.action_space)\n",
    "print(\"Number of state:\",env.observation_space)"
   ]
  },
  {
   "cell_type": "markdown",
   "id": "00e4d7c7",
   "metadata": {},
   "source": [
    "# a) Random search method"
   ]
  },
  {
   "cell_type": "markdown",
   "id": "316f4a84",
   "metadata": {},
   "source": [
    "1. Function of action decision making based on the vector multiplication result of parameter and observation (< 0: go left, > 0: go right)"
   ]
  },
  {
   "cell_type": "code",
   "execution_count": 2,
   "id": "93227fea",
   "metadata": {},
   "outputs": [],
   "source": [
    "def action_decision(parameter,obs):\n",
    "    if (np.matmul(parameter,obs) < 0):\n",
    "        return 0\n",
    "    else:\n",
    "        return 1"
   ]
  },
  {
   "cell_type": "markdown",
   "id": "178065df",
   "metadata": {},
   "source": [
    "2. Function of making an episode, then return the episode's reward (for each timestep the pole still straight, the reward +=1) to evaluate the episodes performance"
   ]
  },
  {
   "cell_type": "code",
   "execution_count": 3,
   "id": "a307cacb",
   "metadata": {},
   "outputs": [],
   "source": [
    "#Define function that run 1 episode with given timestep\n",
    "def episode_run(env, parameter,timesteps):\n",
    "    #Reset an observation to be random situation\n",
    "    obs = env.reset() \n",
    "    \n",
    "    #Initialize reward\n",
    "    total_rw = 0\n",
    "    \n",
    "    #Loop through 'timestep' iteration of action to check for the performance, break the loop when the pole fall\n",
    "    for i in range(timesteps):\n",
    "        \n",
    "        #Draw the action based on the vector multiplication\n",
    "        action = action_decision(parameter,obs)\n",
    "        #Update the observation, gained reward, done boolean and info after that action\n",
    "        obs, rw, done, info = env.step(action)\n",
    "        #Update total episode's reward after the action\n",
    "        total_rw = total_rw + rw\n",
    "        \n",
    "        #Check if the pole is fallen after the timestep. If yes, break the loop\n",
    "        if (done == True):\n",
    "            break\n",
    "    \n",
    "    return total_rw"
   ]
  },
  {
   "cell_type": "markdown",
   "id": "c9cac4f3",
   "metadata": {},
   "source": [
    "3. Main function of random search - trying random weight to run episode and pick the weight with best performance (highest reward)"
   ]
  },
  {
   "cell_type": "code",
   "execution_count": 4,
   "id": "b9efcf98",
   "metadata": {},
   "outputs": [],
   "source": [
    "def random_search():\n",
    "    #Initialize variable to store best performance reward (from episode) and best parameter\n",
    "    best_para = 0\n",
    "    best_rw = 0\n",
    "\n",
    "    #Loop through numbers of episode with random parameter set (array of 4 observation), looking for the best performance\n",
    "    ep_numb = 1000     #episode number\n",
    "    for i in range(ep_numb):\n",
    "        parameter = np.random.rand(4)*2 - 1\n",
    "        rw = episode_run(env,parameter,timesteps = 200)\n",
    "        #Checking if the epoch is the best performance or not by comparing it's reward to current best reward\n",
    "        if (rw > best_rw):\n",
    "\n",
    "            #If yes, update the new best weight and reward\n",
    "            best_para = parameter\n",
    "            best_rw = rw\n",
    "\n",
    "        #Assume that the problem is solve if the episode can hold the pole for 200 timestep\n",
    "        #When the situation comes, break the loop and consider it is the best given solution\n",
    "        if (rw == 200):            \n",
    "            #Return episode needed for success (break)\n",
    "            return i\n",
    "            break\n",
    "    print(best_para,best_rw)"
   ]
  },
  {
   "cell_type": "markdown",
   "id": "f26064a9",
   "metadata": {},
   "source": [
    "4. Calculate the average episode the method takes to solve the problem (200 timestep of not falling) from 100 times "
   ]
  },
  {
   "cell_type": "code",
   "execution_count": 5,
   "id": "56f128a4",
   "metadata": {},
   "outputs": [
    {
     "name": "stdout",
     "output_type": "stream",
     "text": [
      "Average episode for success for 100 train times: 12.18\n"
     ]
    }
   ],
   "source": [
    "#Array to store all the number of episode the method need to solve the problem for each time of trying (100 tries)\n",
    "episode_needed =[]\n",
    "\n",
    "#Loop through 100 time of random search method\n",
    "for i in range(100):\n",
    "    episode_needed.append(random_search())\n",
    "\n",
    "#Print out the average episode needed for 100 tries of solving problem using random search\n",
    "print(\"Average episode for success for 100 train times:\",sum(episode_needed)/100)"
   ]
  },
  {
   "cell_type": "markdown",
   "id": "d1def3b8",
   "metadata": {},
   "source": [
    "5. Create a graph of frequency of "
   ]
  },
  {
   "cell_type": "code",
   "execution_count": 6,
   "id": "257efb40",
   "metadata": {},
   "outputs": [
    {
     "data": {
      "image/png": "[encoded data removed]",
      "text/plain": [
       "<Figure size 432x288 with 1 Axes>"
      ]
     },
     "metadata": {
      "needs_background": "light"
     },
     "output_type": "display_data"
    }
   ],
   "source": [
    "#Draw a histogram of frequency of episode for successful for each train\n",
    "plt.hist(episode_needed,50, facecolor='r')\n",
    "plt.xlabel('Needed episode to reach 200 success timestep')\n",
    "plt.ylabel('Frequency')\n",
    "plt.title('Random search successful histogram')\n",
    "plt.show()"
   ]
  },
  {
   "cell_type": "markdown",
   "id": "289dd899",
   "metadata": {},
   "source": [
    "# b) Q-learning method to solve the cartpole problem"
   ]
  },
  {
   "cell_type": "code",
   "execution_count": 7,
   "id": "b30608da",
   "metadata": {},
   "outputs": [],
   "source": [
    "#Initialize the environment\n",
    "env = gym.make('CartPole-v0')"
   ]
  },
  {
   "cell_type": "markdown",
   "id": "dec32c0e",
   "metadata": {},
   "source": [
    "1. Divided state space into discrete bucket (to convert continuous observation into discrete observation => transform the problem to finite state to apply Q-learning)"
   ]
  },
  {
   "cell_type": "code",
   "execution_count": 8,
   "id": "ccd54e9f",
   "metadata": {},
   "outputs": [],
   "source": [
    "#Divide continuous state space into discrete bucket\n",
    "discrete_bin = (6,12)\n",
    "\n",
    "#Intake lower bound and upper bound\n",
    "boundlow = [env.observation_space.low[2],-math.radians(50)]\n",
    "boundup = [ env.observation_space.high[2],math.radians(50)]\n",
    "\n",
    "#Function that divide observation by it's angle and pole velocity into 6 and 12 bins respectively, makes the return to be tuple\n",
    "def divide_into_bucket( _ , __ , angle, pole_velocity ):\n",
    "    \n",
    "    #Using the KbinDiscretizer to divide observation by pole angle and pole velocity into 6 and 12 bins respectively\n",
    "    bin = KBinsDiscretizer(n_bins=discrete_bin, encode='ordinal', strategy='uniform')\n",
    "    bin.fit([boundlow, boundup ])\n",
    "    return tuple(map(int,bin.transform([[angle, pole_velocity]])[0]))"
   ]
  },
  {
   "cell_type": "markdown",
   "id": "7290e1b3",
   "metadata": {},
   "source": [
    "2. initialize 3D Q-table, create a policy to make a move and update Q-value function"
   ]
  },
  {
   "cell_type": "code",
   "execution_count": 9,
   "id": "d78d2ca5",
   "metadata": {},
   "outputs": [],
   "source": [
    "#Store every combination of (state + action)'s long term reward\n",
    "Qtable = np.zeros(discrete_bin + (env.action_space.n,))\n",
    "Qtable.shape\n",
    "\n",
    "#Create a policy that taking action has a highest Q-value return for each state (using Q-table) using argmax\n",
    "def policy(state):\n",
    "    return np.argmax(Qtable[state])\n",
    "\n",
    "#Create a function that update new Qvalue for an action in the state space using the given formula (and makes the return to be float)\n",
    "#Q(state,action) ← (1−α)Q(state,action) + α(reward+γmax(a)Q(next state,all actions))\n",
    "def Qval_new(rw,newstate):\n",
    "    #Input the next max Q-value from state space\n",
    "    next_max = np.max(Qtable[newstate])\n",
    "    \n",
    "    #update the new Qvalue for the cell in table\n",
    "    new_Q_value = rw + next_max\n",
    "    \n",
    "    #Return\n",
    "    return float(new_Q_value)"
   ]
  },
  {
   "cell_type": "markdown",
   "id": "dc9a4e82",
   "metadata": {},
   "source": [
    "3. Decay functions to tune the learning rate of the action"
   ]
  },
  {
   "cell_type": "code",
   "execution_count": 10,
   "id": "803e7daa",
   "metadata": {},
   "outputs": [],
   "source": [
    "#Decay the learning rate function to weight old Q-value with the new one\n",
    "#It'll make the it learn faster at the begin and slower at the end\n",
    "def alpha(n):\n",
    "    return float(max(0.01, min(1.0, 1.0 - math.log10((n + 1) / 25))))\n",
    "\n",
    "#Exploration rate function for better exploring the state space by creating a proportion of random action\n",
    "def exploration_rate(n):\n",
    "    \"\"\"Decaying exploration rate\"\"\"\n",
    "    rate = float(max(0.1, min(1, 1.0 - math.log10((n  + 1) / 25))))\n",
    "    return rate"
   ]
  },
  {
   "cell_type": "markdown",
   "id": "113ed871",
   "metadata": {},
   "source": [
    "4. Training step and render to see the result (if necessary)"
   ]
  },
  {
   "cell_type": "code",
   "execution_count": 11,
   "id": "137739df",
   "metadata": {},
   "outputs": [
    {
     "name": "stdout",
     "output_type": "stream",
     "text": [
      "Done training\n"
     ]
    }
   ],
   "source": [
    "#Running 4000 trainings\n",
    "array_timestep = []\n",
    "for i in range(4000):\n",
    "    \n",
    "    # Separate continuous state to discrete value\n",
    "    state = divide_into_bucket(*env.reset())\n",
    "    done = False\n",
    "    timestepmade = 0\n",
    "    while (done!=True):    \n",
    "        #Action\n",
    "        action = policy(state)\n",
    "        \n",
    "        #Using exploration rate (mentioned above) to explore the state space by bring in various random combination\n",
    "        if np.random.random() < exploration_rate(i) : \n",
    "            action = env.action_space.sample()\n",
    "            \n",
    "        #Take output from action\n",
    "        obs, rw, done, _ = env.step(action)\n",
    "        newstate = divide_into_bucket(*obs)\n",
    "        \n",
    "        #Calculate learning rate\n",
    "        alphaa = alpha(i)\n",
    "        \n",
    "        #Update new Qvalue for an action in the state space using the given formula using the mentioned learning rate\n",
    "        next_max = Qval_new(rw,newstate)\n",
    "        oldvalue = Qtable[state][action]\n",
    "        Qtable[state][action] = (1-alphaa)*oldvalue + alphaa*next_max\n",
    "        state = newstate\n",
    "        timestepmade+=1\n",
    "        #env.render()\n",
    "    array_timestep.append(timestepmade)\n",
    "#print(array_timestep)\n",
    "print(\"Done training\")"
   ]
  },
  {
   "cell_type": "markdown",
   "id": "767499c1",
   "metadata": {},
   "source": [
    "5. Evaluate the Q-table in solving 100 episode of problem"
   ]
  },
  {
   "cell_type": "code",
   "execution_count": 12,
   "id": "69959e92",
   "metadata": {},
   "outputs": [
    {
     "name": "stdout",
     "output_type": "stream",
     "text": [
      "[200, 200, 200, 200, 200, 200, 200, 200, 200, 200, 200, 200, 200, 200, 200, 200, 200, 200, 200, 200, 200, 200, 200, 200, 200, 200, 200, 200, 200, 200, 200, 200, 200, 200, 200, 200, 200, 200, 200, 200, 200, 200, 200, 200, 200, 200, 200, 200, 200, 200, 200, 200, 200, 200, 200, 200, 200, 200, 200, 200, 200, 200, 200, 200, 200, 200, 200, 200, 200, 200, 200, 200, 200, 200, 200, 200, 200, 200, 200, 200, 200, 200, 200, 200, 200, 200, 200, 200, 200, 200, 200, 200, 200, 200, 200, 200, 200, 200, 200, 200]\n",
      "Done testing\n"
     ]
    }
   ],
   "source": [
    "array_timestep_realrun = []\n",
    "#Solve 100 episode and evaluate the result\n",
    "for i in range(100):\n",
    "    # Separate continuous state to discrete value\n",
    "    state = divide_into_bucket(*env.reset())\n",
    "    done = False\n",
    "    timestepmade = 0\n",
    "    while (done!=True):    \n",
    "        #Action\n",
    "        action = policy(state)\n",
    "        timestepmade+=1\n",
    "        #Take output from action\n",
    "        obs, rw, done, _ = env.step(action)\n",
    "        state = divide_into_bucket(*obs)\n",
    "        #env.render()\n",
    "    array_timestep_realrun.append(timestepmade)\n",
    "    \n",
    "#Print the result, the result should be all 200 (the number of pole balance timestep that is considered as success)\n",
    "print(array_timestep_realrun)\n",
    "print(\"Done testing\")"
   ]
  },
  {
   "cell_type": "markdown",
   "id": "59b0a92e",
   "metadata": {},
   "source": [
    "5. Learning speed visualization"
   ]
  },
  {
   "cell_type": "code",
   "execution_count": 13,
   "id": "6d92c2d1",
   "metadata": {},
   "outputs": [
    {
     "data": {
      "text/plain": [
       "Text(0, 0.5, 'Successful timestep made (max 200)')"
      ]
     },
     "execution_count": 13,
     "metadata": {},
     "output_type": "execute_result"
    },
    {
     "data": {
      "image/png": "[encoded data removed]",
      "text/plain": [
       "<Figure size 720x480 with 1 Axes>"
      ]
     },
     "metadata": {
      "needs_background": "light"
     },
     "output_type": "display_data"
    }
   ],
   "source": [
    "from matplotlib.pyplot import figure\n",
    "\n",
    "#Create variable x to store 400 first training episodes number from 1 to 400 (the part we want to visualize over 4000 episodes each training)\n",
    "x = []\n",
    "for i in range (1,401):\n",
    "    x.append(i)\n",
    "    \n",
    "#y is the result of first 400 episodes of the training\n",
    "y = array_timestep[0:400]\n",
    "\n",
    "#Graph\n",
    "fig, ax = plt.subplots(figsize=(6, 4), dpi=120)\n",
    "ax.plot(x, y)\n",
    "\n",
    "#Name the elements\n",
    "ax.set_title('Q-learning cartpole training process', fontsize=15)\n",
    "ax.set_xlabel('Training episode', fontsize=10)\n",
    "ax.set_ylabel('Successful timestep made (max 200)', fontsize=10)"
   ]
  },
  {
   "cell_type": "code",
   "execution_count": null,
   "id": "ea8eb212",
   "metadata": {},
   "outputs": [],
   "source": []
  }
 ],
 "metadata": {
  "kernelspec": {
   "display_name": "Python 3",
   "language": "python",
   "name": "python3"
  },
  "language_info": {
   "codemirror_mode": {
    "name": "ipython",
    "version": 3
   },
   "file_extension": ".py",
   "mimetype": "text/x-python",
   "name": "python",
   "nbconvert_exporter": "python",
   "pygments_lexer": "ipython3",
   "version": "3.8.8"
  }
 },
 "nbformat": 4,
 "nbformat_minor": 5
}
